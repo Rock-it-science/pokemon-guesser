{
 "cells": [
  {
   "cell_type": "code",
   "execution_count": 15,
   "id": "8d5ee0e1-985e-4552-a770-508447fc32db",
   "metadata": {},
   "outputs": [
    {
     "data": {
      "text/plain": [
       "'tree.pdf'"
      ]
     },
     "execution_count": 15,
     "metadata": {},
     "output_type": "execute_result"
    }
   ],
   "source": [
    "from sklearn import tree\n",
    "import pandas as pd\n",
    "import matplotlib as plt\n",
    "import graphviz\n",
    "\n",
    "# Load data\n",
    "df = pd.read_csv('data/pokemon_preprocessed.csv')\n",
    "\n",
    "X = df.drop(['name', 'id'] , axis=1)\n",
    "#X = df[['is_legendary', 'type1__bug']]\n",
    "y = df['id']\n",
    "\n",
    "# Fit model classification tree model\n",
    "clf = tree.DecisionTreeClassifier()\n",
    "clf.fit(X, y)\n",
    "\n",
    "# Plot the tree\n",
    "#tree.plot_tree(clf)\n",
    "dot_data = tree.export_graphviz(\n",
    "    clf,\n",
    "    out_file=None,\n",
    "    feature_names=X.columns,\n",
    "    class_names=df['name'],\n",
    "    label=None,\n",
    "    proportion=True\n",
    "    ) \n",
    "graph = graphviz.Source(dot_data) \n",
    "graph.render(\"tree\") "
   ]
  }
 ],
 "metadata": {
  "kernelspec": {
   "display_name": "Python 3 (ipykernel)",
   "language": "python",
   "name": "python3"
  },
  "language_info": {
   "codemirror_mode": {
    "name": "ipython",
    "version": 3
   },
   "file_extension": ".py",
   "mimetype": "text/x-python",
   "name": "python",
   "nbconvert_exporter": "python",
   "pygments_lexer": "ipython3",
   "version": "3.8.0"
  }
 },
 "nbformat": 4,
 "nbformat_minor": 5
}
