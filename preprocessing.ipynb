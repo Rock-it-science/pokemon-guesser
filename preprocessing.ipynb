{
 "cells": [
  {
   "cell_type": "code",
   "execution_count": 2,
   "metadata": {},
   "outputs": [
    {
     "name": "stdout",
     "output_type": "stream",
     "text": [
      "           name  generation  is_legendary  type1__bug  type1__dark  \\\n",
      "0     Bulbasaur           1             0           0            0   \n",
      "1       Ivysaur           1             0           0            0   \n",
      "2      Venusaur           1             0           0            0   \n",
      "3    Charmander           1             0           0            0   \n",
      "4    Charmeleon           1             0           0            0   \n",
      "..          ...         ...           ...         ...          ...   \n",
      "796  Celesteela           7             1           0            0   \n",
      "797     Kartana           7             1           0            0   \n",
      "798    Guzzlord           7             1           0            1   \n",
      "799    Necrozma           7             1           0            0   \n",
      "800    Magearna           7             1           0            0   \n",
      "\n",
      "     type1__dragon  type1__electric  type1__fairy  type1__fighting  \\\n",
      "0                0                0             0                0   \n",
      "1                0                0             0                0   \n",
      "2                0                0             0                0   \n",
      "3                0                0             0                0   \n",
      "4                0                0             0                0   \n",
      "..             ...              ...           ...              ...   \n",
      "796              0                0             0                0   \n",
      "797              0                0             0                0   \n",
      "798              0                0             0                0   \n",
      "799              0                0             0                0   \n",
      "800              0                0             0                0   \n",
      "\n",
      "     type1__fire  ...  type2__steel  type2__water  generation__1  \\\n",
      "0              0  ...             0             0              1   \n",
      "1              0  ...             0             0              1   \n",
      "2              0  ...             0             0              1   \n",
      "3              1  ...             0             0              1   \n",
      "4              1  ...             0             0              1   \n",
      "..           ...  ...           ...           ...            ...   \n",
      "796            0  ...             0             0              0   \n",
      "797            0  ...             1             0              0   \n",
      "798            0  ...             0             0              0   \n",
      "799            0  ...             0             0              0   \n",
      "800            0  ...             0             0              0   \n",
      "\n",
      "     generation__2  generation__3  generation__4  generation__5  \\\n",
      "0                0              0              0              0   \n",
      "1                0              0              0              0   \n",
      "2                0              0              0              0   \n",
      "3                0              0              0              0   \n",
      "4                0              0              0              0   \n",
      "..             ...            ...            ...            ...   \n",
      "796              0              0              0              0   \n",
      "797              0              0              0              0   \n",
      "798              0              0              0              0   \n",
      "799              0              0              0              0   \n",
      "800              0              0              0              0   \n",
      "\n",
      "     generation__6  generation__7   id  \n",
      "0                0              0    1  \n",
      "1                0              0    2  \n",
      "2                0              0    3  \n",
      "3                0              0    4  \n",
      "4                0              0    5  \n",
      "..             ...            ...  ...  \n",
      "796              0              1  797  \n",
      "797              0              1  798  \n",
      "798              0              1  799  \n",
      "799              0              1  800  \n",
      "800              0              1  801  \n",
      "\n",
      "[801 rows x 47 columns]\n"
     ]
    },
    {
     "name": "stderr",
     "output_type": "stream",
     "text": [
      "C:\\Users\\wilmc\\AppData\\Local\\Temp/ipykernel_16972/1972136863.py:21: FutureWarning: Dropping of nuisance columns in DataFrame reductions (with 'numeric_only=None') is deprecated; in a future version this will raise TypeError.  Select only valid columns before calling the reduction.\n",
      "  df.fillna(df.mean(), inplace=True) # TODO adjest mean here\n"
     ]
    }
   ],
   "source": [
    "from sklearn.preprocessing import OneHotEncoder\n",
    "import numpy as np\n",
    "import pandas as pd\n",
    "\n",
    "# Import data\n",
    "df = pd.read_csv('data/pokemon.csv')\n",
    "\n",
    "# For columns with many classes, we will get dummy variable for each class\n",
    "oh_cols = ['type1', 'type2', 'generation'] # Columns that need to be encoded with OH\n",
    "dum_df = pd.get_dummies(df, columns=oh_cols, prefix=['type1_', 'type2_', 'generation_'])\n",
    "df = df.join(dum_df, rsuffix='_dum')\n",
    "# Drop duplicate columns\n",
    "df.drop([col for col in df.columns if '_dum' in col], axis=1, inplace=True)\n",
    "\n",
    "# TODO make columns for greater or less than mean for hp, attack, anc defense\n",
    "\n",
    "# Drop non-binary columns\n",
    "df.drop(['classification', 'type1','type2', 'attack', 'height_m', 'hp','percentage_male','speed','weight_kg'], axis=1, inplace=True)\n",
    "\n",
    "# Set default values for missing values\n",
    "df.fillna(df.mean(), inplace=True) # TODO adjest mean here\n",
    "\n",
    "# Assign id to each pokemon that we can map back to its name\n",
    "df['id'] = np.arange(1, len(df)+1)\n",
    "\n",
    "print(df)\n",
    "df.to_csv('data/pokemon_preprocessed.csv', index=False)"
   ]
  }
 ],
 "metadata": {
  "interpreter": {
   "hash": "ee8620f375ed91ba783427637a839240dd45c0e86e87a22e14c4b155bfbdecc5"
  },
  "kernelspec": {
   "display_name": "Python 3.8.0 32-bit",
   "language": "python",
   "name": "python3"
  },
  "language_info": {
   "codemirror_mode": {
    "name": "ipython",
    "version": 3
   },
   "file_extension": ".py",
   "mimetype": "text/x-python",
   "name": "python",
   "nbconvert_exporter": "python",
   "pygments_lexer": "ipython3",
   "version": "3.8.0"
  },
  "orig_nbformat": 4
 },
 "nbformat": 4,
 "nbformat_minor": 2
}
